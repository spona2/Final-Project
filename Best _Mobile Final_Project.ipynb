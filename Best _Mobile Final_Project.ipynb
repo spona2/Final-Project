{
 "cells": [
  {
   "cell_type": "code",
   "execution_count": 1,
   "metadata": {
    "collapsed": false
   },
   "outputs": [
    {
     "name": "stdout",
     "output_type": "stream",
     "text": [
      "Populating the interactive namespace from numpy and matplotlib\n"
     ]
    }
   ],
   "source": [
    "import pandas as pd\n",
    "%pylab inline"
   ]
  },
  {
   "cell_type": "code",
   "execution_count": 2,
   "metadata": {
    "collapsed": false
   },
   "outputs": [
    {
     "name": "stdout",
     "output_type": "stream",
     "text": [
      "     brand  net  gen  internalm  externalm  ram  primecam  sndcam  wlan  \\\n",
      "0        1    3    3          2          2  4.0        13       2     1   \n",
      "1        1    3    4          8          2  0.5        18      16     0   \n",
      "2        1    3    4         32         16  0.5        10      16     1   \n",
      "3        1    1    3         64         16  1.0        18       2     1   \n",
      "4        1    2    4          2          4  2.0        20      16     1   \n",
      "5        1    3    2         32          2  2.0         5       2     1   \n",
      "6        1    3    4          2          8  1.0        18       5     0   \n",
      "7        1    1    4         64          4  4.0        10      16     0   \n",
      "8        1    3    2          8         32  1.0        20      10     1   \n",
      "9        1    3    2          2          2  4.0         5       2     1   \n",
      "10       1    3    3          4          8  0.5        16       5     1   \n",
      "11       1    1    4          2         32  4.0        13      16     0   \n",
      "12       1    1    4          4         16  1.0        20       8     0   \n",
      "13       1    3    4          2         32  4.0        13       2     1   \n",
      "14       1    1    4          4         16  0.5         8       2     1   \n",
      "15       1    2    2          8          4  2.0         8       5     0   \n",
      "16       1    2    2         16          4  0.5        10      10     0   \n",
      "17       1    3    2          8         16  0.5        13      16     1   \n",
      "18       1    2    2         16         16  2.0        13       5     0   \n",
      "19       1    2    3          8          4  2.0         5       2     0   \n",
      "20       1    2    3         16         16  4.0        13       2     0   \n",
      "21       1    2    3          4          4  2.0        16      10     0   \n",
      "22       1    1    3         16         32  0.5        16      16     0   \n",
      "23       1    1    4          8          8  2.0         8       5     1   \n",
      "24       1    3    3         64          2  1.0        16       5     0   \n",
      "25       1    2    4          4          8  4.0        20      10     1   \n",
      "26       1    2    2          4          2  4.0        10       2     1   \n",
      "27       1    1    3         32         32  2.0        20       2     1   \n",
      "28       1    1    3         64          4  0.5        20      10     0   \n",
      "29       1    1    3          2          2  2.0        20       2     0   \n",
      "..     ...  ...  ...        ...        ...  ...       ...     ...   ...   \n",
      "220      5    2    3         16         16  1.0        20       8     1   \n",
      "221      5    2    3         32         16  0.5         5       5     1   \n",
      "222      5    2    2          8          4  4.0        13      10     0   \n",
      "223      5    3    3          4         16  0.5        13      10     1   \n",
      "224      5    3    2          2          4  0.5        16      10     0   \n",
      "225      5    2    4          8         16  2.0         8      10     0   \n",
      "226      5    2    3         32         16  0.5        10      16     0   \n",
      "227      5    1    2          4          4  0.5        20       8     1   \n",
      "228      5    1    3          2          2  1.0         5      10     0   \n",
      "229      5    3    2          2          2  4.0        10       5     1   \n",
      "230      5    2    4         64          4  2.0         8       8     0   \n",
      "231      5    1    3         32          2  2.0         8      10     0   \n",
      "232      5    3    4          2          2  0.5        13       2     1   \n",
      "233      5    3    3         32          4  0.5        20       5     1   \n",
      "234      5    3    3         32         16  1.0        20      10     0   \n",
      "235      5    3    3          2          2  0.5         8       8     1   \n",
      "236      5    3    2          8         32  0.5         8       2     0   \n",
      "237      5    1    3          8          4  2.0        18       2     1   \n",
      "238      5    2    4          4          4  4.0         5       5     0   \n",
      "239      5    3    2          2         16  0.5         8      10     0   \n",
      "240      5    1    3          2          4  2.0        16      10     0   \n",
      "241      5    1    3         32          8  1.0        20       5     0   \n",
      "242      5    1    4          2         16  2.0         5      16     0   \n",
      "243      5    2    4         64          2  1.0        16       2     1   \n",
      "244      5    2    2         32         32  1.0         8       5     1   \n",
      "245      5    1    4         16         32  2.0         5      16     1   \n",
      "246      5    1    2         64         16  2.0        16       5     1   \n",
      "247      5    1    4          4          4  1.0        16       5     1   \n",
      "248      5    1    2          2          8  2.0        16       8     0   \n",
      "249      5    1    2          4          2  1.0        13       8     0   \n",
      "\n",
      "     bluetooth  gps  battery  talktime  price  standby  \n",
      "0            0    1     3100         8    680      753  \n",
      "1            1    0     2300        18    230      402  \n",
      "2            0    0     3200         8    680      761  \n",
      "3            0    1     2500         9    230      604  \n",
      "4            0    0     3400        20    380      650  \n",
      "5            1    1     3100        10    230      690  \n",
      "6            1    1     2700        16    380      525  \n",
      "7            1    0     3000        27    530      538  \n",
      "8            0    1     3100        10    530      424  \n",
      "9            0    1     3200        21    530      646  \n",
      "10           0    1     2100        15    680      753  \n",
      "11           0    1     3300        26    230      643  \n",
      "12           0    0     3100        10    530      220  \n",
      "13           1    1     2500        29    530      330  \n",
      "14           1    0     2000        23    230      504  \n",
      "15           0    0     2500        23    530      534  \n",
      "16           0    1     2800        12    530      653  \n",
      "17           1    0     2900        20    380      846  \n",
      "18           1    0     2500        29    680      346  \n",
      "19           0    1     3000        24    380      385  \n",
      "20           1    1     2100        25    380      455  \n",
      "21           0    0     3400        16    680      345  \n",
      "22           1    1     2500        27    530      495  \n",
      "23           0    1     2200        20    680      286  \n",
      "24           1    0     3200        16    380      254  \n",
      "25           1    1     2100        28    230      196  \n",
      "26           0    1     2000        30    380      681  \n",
      "27           0    1     3500        15    530      785  \n",
      "28           1    1     2900        11    680      447  \n",
      "29           1    0     3400        18    680      541  \n",
      "..         ...  ...      ...       ...    ...      ...  \n",
      "220          1    0     2400        28    380      653  \n",
      "221          1    0     3000        29    530      846  \n",
      "222          1    1     2000        30    680      346  \n",
      "223          0    0     2500        25    230      385  \n",
      "224          0    1     3200        27    530      455  \n",
      "225          0    1     3100        22    230      345  \n",
      "226          1    1     2000        21    230      495  \n",
      "227          1    1     2500        13    380      286  \n",
      "228          0    0     3000        28    680      254  \n",
      "229          0    0     3300        24    680      196  \n",
      "230          0    1     3100        15    230      681  \n",
      "231          1    1     2600        19    530      785  \n",
      "232          0    0     2000        27    530      447  \n",
      "233          1    0     3200        13    380      541  \n",
      "234          0    1     3200        22    530      451  \n",
      "235          0    1     3400        16    680      360  \n",
      "236          1    0     2500        14    230      480  \n",
      "237          0    1     2100        18    230      450  \n",
      "238          0    1     2300        24    530      230  \n",
      "239          0    1     2900        19    680      286  \n",
      "240          1    1     3200        22    380      254  \n",
      "241          1    0     2600        30    230      196  \n",
      "242          1    1     3100        10    680      681  \n",
      "243          1    0     2000         8    530      380  \n",
      "244          1    0     3300        20    380      324  \n",
      "245          1    0     3200         9    680      680  \n",
      "246          0    0     2300         8    530      578  \n",
      "247          0    0     2500        23    680      431  \n",
      "248          1    1     2800        12    530      533  \n",
      "249          0    1     2500        10    380      211  \n",
      "\n",
      "[250 rows x 15 columns]\n"
     ]
    }
   ],
   "source": [
    "mobdat = pd.read_csv('bestmobiledata.csv', sep = ',')\n",
    "print(mobdat)"
   ]
  },
  {
   "cell_type": "code",
   "execution_count": 3,
   "metadata": {
    "collapsed": false
   },
   "outputs": [],
   "source": [
    "import numpy as np\n",
    "import pandas as pd\n",
    "import matplotlib.pyplot as plt"
   ]
  },
  {
   "cell_type": "code",
   "execution_count": 4,
   "metadata": {
    "collapsed": false
   },
   "outputs": [
    {
     "data": {
      "text/plain": [
       "count    250.000000\n",
       "mean      21.808000\n",
       "std       22.842818\n",
       "min        2.000000\n",
       "25%        4.000000\n",
       "50%        8.000000\n",
       "75%       32.000000\n",
       "max       64.000000\n",
       "Name: internalm, dtype: float64"
      ]
     },
     "execution_count": 4,
     "metadata": {},
     "output_type": "execute_result"
    }
   ],
   "source": [
    "mobdat.internalm.describe()"
   ]
  },
  {
   "cell_type": "code",
   "execution_count": 5,
   "metadata": {
    "collapsed": false
   },
   "outputs": [
    {
     "data": {
      "text/plain": [
       "count    250.000000\n",
       "mean      11.176000\n",
       "std       10.264427\n",
       "min        2.000000\n",
       "25%        4.000000\n",
       "50%        8.000000\n",
       "75%       16.000000\n",
       "max       32.000000\n",
       "Name: externalm, dtype: float64"
      ]
     },
     "execution_count": 5,
     "metadata": {},
     "output_type": "execute_result"
    }
   ],
   "source": [
    "mobdat.externalm.describe()"
   ]
  },
  {
   "cell_type": "code",
   "execution_count": 6,
   "metadata": {
    "collapsed": false
   },
   "outputs": [
    {
     "data": {
      "text/plain": [
       "count    250.000000\n",
       "mean      13.316000\n",
       "std        5.080886\n",
       "min        5.000000\n",
       "25%        8.000000\n",
       "50%       13.000000\n",
       "75%       18.000000\n",
       "max       20.000000\n",
       "Name: primecam, dtype: float64"
      ]
     },
     "execution_count": 6,
     "metadata": {},
     "output_type": "execute_result"
    }
   ],
   "source": [
    "mobdat.primecam.describe()"
   ]
  },
  {
   "cell_type": "code",
   "execution_count": 7,
   "metadata": {
    "collapsed": false
   },
   "outputs": [
    {
     "data": {
      "text/plain": [
       "count     250.000000\n",
       "mean     2752.800000\n",
       "std       459.190137\n",
       "min      2000.000000\n",
       "25%      2400.000000\n",
       "50%      2750.000000\n",
       "75%      3100.000000\n",
       "max      3500.000000\n",
       "Name: battery, dtype: float64"
      ]
     },
     "execution_count": 7,
     "metadata": {},
     "output_type": "execute_result"
    }
   ],
   "source": [
    "mobdat.battery.describe()"
   ]
  },
  {
   "cell_type": "code",
   "execution_count": 8,
   "metadata": {
    "collapsed": false
   },
   "outputs": [
    {
     "data": {
      "text/plain": [
       "count    250.000000\n",
       "mean      18.632000\n",
       "std        6.490693\n",
       "min        8.000000\n",
       "25%       13.000000\n",
       "50%       19.000000\n",
       "75%       24.000000\n",
       "max       30.000000\n",
       "Name: talktime, dtype: float64"
      ]
     },
     "execution_count": 8,
     "metadata": {},
     "output_type": "execute_result"
    }
   ],
   "source": [
    "mobdat.talktime.describe()"
   ]
  },
  {
   "cell_type": "code",
   "execution_count": 9,
   "metadata": {
    "collapsed": false
   },
   "outputs": [
    {
     "data": {
      "image/png": "[encoded data removed]",
      "text/plain": [
       "<matplotlib.figure.Figure at 0xbae2438>"
      ]
     },
     "metadata": {},
     "output_type": "display_data"
    }
   ],
   "source": [
    "plt.hist(mobdat.price)\n",
    "plt.title(\"hist of price of different mobile brands\")\n",
    "plt.show()"
   ]
  },
  {
   "cell_type": "code",
   "execution_count": 10,
   "metadata": {
    "collapsed": false
   },
   "outputs": [],
   "source": [
    "df = pd.read_csv(\"bestmobiledata.csv\")"
   ]
  },
  {
   "cell_type": "code",
   "execution_count": 11,
   "metadata": {
    "collapsed": false
   },
   "outputs": [
    {
     "data": {
      "text/plain": [
       "Index([u'brand', u'net', u'gen', u'internalm', u'externalm', u'ram', u'primecam', u'sndcam', u'wlan', u'bluetooth', u'gps', u'battery', u'talktime', u'price', u'standby'], dtype='object')"
      ]
     },
     "execution_count": 11,
     "metadata": {},
     "output_type": "execute_result"
    }
   ],
   "source": [
    "df.columns"
   ]
  },
  {
   "cell_type": "code",
   "execution_count": 12,
   "metadata": {
    "collapsed": false
   },
   "outputs": [],
   "source": [
    "#Different categorical variables\n",
    "X = pd.DataFrame()\n",
    "X['brand'] = df['brand']\n",
    "X['net'] = df['net']\n",
    "X['gen'] = df['gen']\n",
    "X['internalm'] = df['internalm']\n",
    "X['externalm'] = df['externalm']\n",
    "X['ram'] = df['ram']\n",
    "X['primecam'] = df['primecam']\n",
    "X['sndcam'] = df['sndcam']\n",
    "X['wlan'] = df['wlan']\n",
    "X['bluetooth'] = df['bluetooth']\n",
    "X['gps'] = df['gps']\n",
    "X['battery'] = df['battery']\n",
    "X['talktime'] = df['talktime']\n",
    "X['price'] = df['price']\n",
    "X['standby'] = df['standby']"
   ]
  },
  {
   "cell_type": "code",
   "execution_count": 13,
   "metadata": {
    "collapsed": false
   },
   "outputs": [
    {
     "data": {
      "text/html": [
       "<div style=\"max-height:1000px;max-width:1500px;overflow:auto;\">\n",
       "<table border=\"1\" class=\"dataframe\">\n",
       "  <thead>\n",
       "    <tr style=\"text-align: right;\">\n",
       "      <th></th>\n",
       "      <th>brand</th>\n",
       "      <th>net</th>\n",
       "      <th>gen</th>\n",
       "      <th>internalm</th>\n",
       "      <th>externalm</th>\n",
       "      <th>ram</th>\n",
       "      <th>primecam</th>\n",
       "      <th>sndcam</th>\n",
       "      <th>wlan</th>\n",
       "      <th>bluetooth</th>\n",
       "      <th>gps</th>\n",
       "      <th>battery</th>\n",
       "      <th>talktime</th>\n",
       "      <th>price</th>\n",
       "      <th>standby</th>\n",
       "    </tr>\n",
       "  </thead>\n",
       "  <tbody>\n",
       "  </tbody>\n",
       "</table>\n",
       "</div>"
      ],
      "text/plain": [
       "Empty DataFrame\n",
       "Columns: [brand, net, gen, internalm, externalm, ram, primecam, sndcam, wlan, bluetooth, gps, battery, talktime, price, standby]\n",
       "Index: []"
      ]
     },
     "execution_count": 13,
     "metadata": {},
     "output_type": "execute_result"
    }
   ],
   "source": [
    "mobdat[mobdat.brand.isnull()]"
   ]
  },
  {
   "cell_type": "code",
   "execution_count": 14,
   "metadata": {
    "collapsed": false
   },
   "outputs": [
    {
     "data": {
      "text/html": [
       "<div style=\"max-height:1000px;max-width:1500px;overflow:auto;\">\n",
       "<table border=\"1\" class=\"dataframe\">\n",
       "  <thead>\n",
       "    <tr style=\"text-align: right;\">\n",
       "      <th></th>\n",
       "      <th>brand</th>\n",
       "      <th>net</th>\n",
       "      <th>gen</th>\n",
       "      <th>internalm</th>\n",
       "      <th>externalm</th>\n",
       "      <th>ram</th>\n",
       "      <th>primecam</th>\n",
       "      <th>sndcam</th>\n",
       "      <th>wlan</th>\n",
       "      <th>bluetooth</th>\n",
       "      <th>gps</th>\n",
       "      <th>battery</th>\n",
       "      <th>talktime</th>\n",
       "      <th>price</th>\n",
       "      <th>standby</th>\n",
       "    </tr>\n",
       "  </thead>\n",
       "  <tbody>\n",
       "  </tbody>\n",
       "</table>\n",
       "</div>"
      ],
      "text/plain": [
       "Empty DataFrame\n",
       "Columns: [brand, net, gen, internalm, externalm, ram, primecam, sndcam, wlan, bluetooth, gps, battery, talktime, price, standby]\n",
       "Index: []"
      ]
     },
     "execution_count": 14,
     "metadata": {},
     "output_type": "execute_result"
    }
   ],
   "source": [
    "mobdat[mobdat.net.isnull()]"
   ]
  },
  {
   "cell_type": "code",
   "execution_count": 15,
   "metadata": {
    "collapsed": false
   },
   "outputs": [
    {
     "data": {
      "text/html": [
       "<div style=\"max-height:1000px;max-width:1500px;overflow:auto;\">\n",
       "<table border=\"1\" class=\"dataframe\">\n",
       "  <thead>\n",
       "    <tr style=\"text-align: right;\">\n",
       "      <th></th>\n",
       "      <th>brand</th>\n",
       "      <th>net</th>\n",
       "      <th>gen</th>\n",
       "      <th>internalm</th>\n",
       "      <th>externalm</th>\n",
       "      <th>ram</th>\n",
       "      <th>primecam</th>\n",
       "      <th>sndcam</th>\n",
       "      <th>wlan</th>\n",
       "      <th>bluetooth</th>\n",
       "      <th>gps</th>\n",
       "      <th>battery</th>\n",
       "      <th>talktime</th>\n",
       "      <th>price</th>\n",
       "      <th>standby</th>\n",
       "    </tr>\n",
       "  </thead>\n",
       "  <tbody>\n",
       "  </tbody>\n",
       "</table>\n",
       "</div>"
      ],
      "text/plain": [
       "Empty DataFrame\n",
       "Columns: [brand, net, gen, internalm, externalm, ram, primecam, sndcam, wlan, bluetooth, gps, battery, talktime, price, standby]\n",
       "Index: []"
      ]
     },
     "execution_count": 15,
     "metadata": {},
     "output_type": "execute_result"
    }
   ],
   "source": [
    "mobdat[mobdat.gen.isnull()]"
   ]
  },
  {
   "cell_type": "code",
   "execution_count": 16,
   "metadata": {
    "collapsed": false
   },
   "outputs": [
    {
     "data": {
      "text/html": [
       "<div style=\"max-height:1000px;max-width:1500px;overflow:auto;\">\n",
       "<table border=\"1\" class=\"dataframe\">\n",
       "  <thead>\n",
       "    <tr style=\"text-align: right;\">\n",
       "      <th></th>\n",
       "      <th>brand</th>\n",
       "      <th>net</th>\n",
       "      <th>gen</th>\n",
       "      <th>internalm</th>\n",
       "      <th>externalm</th>\n",
       "      <th>ram</th>\n",
       "      <th>primecam</th>\n",
       "      <th>sndcam</th>\n",
       "      <th>wlan</th>\n",
       "      <th>bluetooth</th>\n",
       "      <th>gps</th>\n",
       "      <th>battery</th>\n",
       "      <th>talktime</th>\n",
       "      <th>price</th>\n",
       "      <th>standby</th>\n",
       "    </tr>\n",
       "  </thead>\n",
       "  <tbody>\n",
       "  </tbody>\n",
       "</table>\n",
       "</div>"
      ],
      "text/plain": [
       "Empty DataFrame\n",
       "Columns: [brand, net, gen, internalm, externalm, ram, primecam, sndcam, wlan, bluetooth, gps, battery, talktime, price, standby]\n",
       "Index: []"
      ]
     },
     "execution_count": 16,
     "metadata": {},
     "output_type": "execute_result"
    }
   ],
   "source": [
    "mobdat[mobdat.internalm.isnull()]"
   ]
  },
  {
   "cell_type": "code",
   "execution_count": 17,
   "metadata": {
    "collapsed": false
   },
   "outputs": [
    {
     "data": {
      "text/html": [
       "<div style=\"max-height:1000px;max-width:1500px;overflow:auto;\">\n",
       "<table border=\"1\" class=\"dataframe\">\n",
       "  <thead>\n",
       "    <tr style=\"text-align: right;\">\n",
       "      <th></th>\n",
       "      <th>brand</th>\n",
       "      <th>net</th>\n",
       "      <th>gen</th>\n",
       "      <th>internalm</th>\n",
       "      <th>externalm</th>\n",
       "      <th>ram</th>\n",
       "      <th>primecam</th>\n",
       "      <th>sndcam</th>\n",
       "      <th>wlan</th>\n",
       "      <th>bluetooth</th>\n",
       "      <th>gps</th>\n",
       "      <th>battery</th>\n",
       "      <th>talktime</th>\n",
       "      <th>price</th>\n",
       "      <th>standby</th>\n",
       "    </tr>\n",
       "  </thead>\n",
       "  <tbody>\n",
       "  </tbody>\n",
       "</table>\n",
       "</div>"
      ],
      "text/plain": [
       "Empty DataFrame\n",
       "Columns: [brand, net, gen, internalm, externalm, ram, primecam, sndcam, wlan, bluetooth, gps, battery, talktime, price, standby]\n",
       "Index: []"
      ]
     },
     "execution_count": 17,
     "metadata": {},
     "output_type": "execute_result"
    }
   ],
   "source": [
    "mobdat[mobdat.externalm.isnull()]"
   ]
  },
  {
   "cell_type": "code",
   "execution_count": 18,
   "metadata": {
    "collapsed": false
   },
   "outputs": [
    {
     "data": {
      "text/html": [
       "<div style=\"max-height:1000px;max-width:1500px;overflow:auto;\">\n",
       "<table border=\"1\" class=\"dataframe\">\n",
       "  <thead>\n",
       "    <tr style=\"text-align: right;\">\n",
       "      <th></th>\n",
       "      <th>brand</th>\n",
       "      <th>net</th>\n",
       "      <th>gen</th>\n",
       "      <th>internalm</th>\n",
       "      <th>externalm</th>\n",
       "      <th>ram</th>\n",
       "      <th>primecam</th>\n",
       "      <th>sndcam</th>\n",
       "      <th>wlan</th>\n",
       "      <th>bluetooth</th>\n",
       "      <th>gps</th>\n",
       "      <th>battery</th>\n",
       "      <th>talktime</th>\n",
       "      <th>price</th>\n",
       "      <th>standby</th>\n",
       "    </tr>\n",
       "  </thead>\n",
       "  <tbody>\n",
       "  </tbody>\n",
       "</table>\n",
       "</div>"
      ],
      "text/plain": [
       "Empty DataFrame\n",
       "Columns: [brand, net, gen, internalm, externalm, ram, primecam, sndcam, wlan, bluetooth, gps, battery, talktime, price, standby]\n",
       "Index: []"
      ]
     },
     "execution_count": 18,
     "metadata": {},
     "output_type": "execute_result"
    }
   ],
   "source": [
    "mobdat[mobdat.ram.isnull()]"
   ]
  },
  {
   "cell_type": "code",
   "execution_count": 19,
   "metadata": {
    "collapsed": false
   },
   "outputs": [
    {
     "data": {
      "text/html": [
       "<div style=\"max-height:1000px;max-width:1500px;overflow:auto;\">\n",
       "<table border=\"1\" class=\"dataframe\">\n",
       "  <thead>\n",
       "    <tr style=\"text-align: right;\">\n",
       "      <th></th>\n",
       "      <th>brand</th>\n",
       "      <th>net</th>\n",
       "      <th>gen</th>\n",
       "      <th>internalm</th>\n",
       "      <th>externalm</th>\n",
       "      <th>ram</th>\n",
       "      <th>primecam</th>\n",
       "      <th>sndcam</th>\n",
       "      <th>wlan</th>\n",
       "      <th>bluetooth</th>\n",
       "      <th>gps</th>\n",
       "      <th>battery</th>\n",
       "      <th>talktime</th>\n",
       "      <th>price</th>\n",
       "      <th>standby</th>\n",
       "    </tr>\n",
       "  </thead>\n",
       "  <tbody>\n",
       "  </tbody>\n",
       "</table>\n",
       "</div>"
      ],
      "text/plain": [
       "Empty DataFrame\n",
       "Columns: [brand, net, gen, internalm, externalm, ram, primecam, sndcam, wlan, bluetooth, gps, battery, talktime, price, standby]\n",
       "Index: []"
      ]
     },
     "execution_count": 19,
     "metadata": {},
     "output_type": "execute_result"
    }
   ],
   "source": [
    "mobdat[mobdat.primecam.isnull()]"
   ]
  },
  {
   "cell_type": "code",
   "execution_count": 20,
   "metadata": {
    "collapsed": false
   },
   "outputs": [
    {
     "data": {
      "text/html": [
       "<div style=\"max-height:1000px;max-width:1500px;overflow:auto;\">\n",
       "<table border=\"1\" class=\"dataframe\">\n",
       "  <thead>\n",
       "    <tr style=\"text-align: right;\">\n",
       "      <th></th>\n",
       "      <th>brand</th>\n",
       "      <th>net</th>\n",
       "      <th>gen</th>\n",
       "      <th>internalm</th>\n",
       "      <th>externalm</th>\n",
       "      <th>ram</th>\n",
       "      <th>primecam</th>\n",
       "      <th>sndcam</th>\n",
       "      <th>wlan</th>\n",
       "      <th>bluetooth</th>\n",
       "      <th>gps</th>\n",
       "      <th>battery</th>\n",
       "      <th>talktime</th>\n",
       "      <th>price</th>\n",
       "      <th>standby</th>\n",
       "    </tr>\n",
       "  </thead>\n",
       "  <tbody>\n",
       "  </tbody>\n",
       "</table>\n",
       "</div>"
      ],
      "text/plain": [
       "Empty DataFrame\n",
       "Columns: [brand, net, gen, internalm, externalm, ram, primecam, sndcam, wlan, bluetooth, gps, battery, talktime, price, standby]\n",
       "Index: []"
      ]
     },
     "execution_count": 20,
     "metadata": {},
     "output_type": "execute_result"
    }
   ],
   "source": [
    "mobdat[mobdat.sndcam.isnull()]"
   ]
  },
  {
   "cell_type": "code",
   "execution_count": 21,
   "metadata": {
    "collapsed": false
   },
   "outputs": [
    {
     "data": {
      "text/html": [
       "<div style=\"max-height:1000px;max-width:1500px;overflow:auto;\">\n",
       "<table border=\"1\" class=\"dataframe\">\n",
       "  <thead>\n",
       "    <tr style=\"text-align: right;\">\n",
       "      <th></th>\n",
       "      <th>brand</th>\n",
       "      <th>net</th>\n",
       "      <th>gen</th>\n",
       "      <th>internalm</th>\n",
       "      <th>externalm</th>\n",
       "      <th>ram</th>\n",
       "      <th>primecam</th>\n",
       "      <th>sndcam</th>\n",
       "      <th>wlan</th>\n",
       "      <th>bluetooth</th>\n",
       "      <th>gps</th>\n",
       "      <th>battery</th>\n",
       "      <th>talktime</th>\n",
       "      <th>price</th>\n",
       "      <th>standby</th>\n",
       "    </tr>\n",
       "  </thead>\n",
       "  <tbody>\n",
       "  </tbody>\n",
       "</table>\n",
       "</div>"
      ],
      "text/plain": [
       "Empty DataFrame\n",
       "Columns: [brand, net, gen, internalm, externalm, ram, primecam, sndcam, wlan, bluetooth, gps, battery, talktime, price, standby]\n",
       "Index: []"
      ]
     },
     "execution_count": 21,
     "metadata": {},
     "output_type": "execute_result"
    }
   ],
   "source": [
    "mobdat[mobdat.wlan.isnull()]"
   ]
  },
  {
   "cell_type": "code",
   "execution_count": 22,
   "metadata": {
    "collapsed": false
   },
   "outputs": [
    {
     "data": {
      "text/html": [
       "<div style=\"max-height:1000px;max-width:1500px;overflow:auto;\">\n",
       "<table border=\"1\" class=\"dataframe\">\n",
       "  <thead>\n",
       "    <tr style=\"text-align: right;\">\n",
       "      <th></th>\n",
       "      <th>brand</th>\n",
       "      <th>net</th>\n",
       "      <th>gen</th>\n",
       "      <th>internalm</th>\n",
       "      <th>externalm</th>\n",
       "      <th>ram</th>\n",
       "      <th>primecam</th>\n",
       "      <th>sndcam</th>\n",
       "      <th>wlan</th>\n",
       "      <th>bluetooth</th>\n",
       "      <th>gps</th>\n",
       "      <th>battery</th>\n",
       "      <th>talktime</th>\n",
       "      <th>price</th>\n",
       "      <th>standby</th>\n",
       "    </tr>\n",
       "  </thead>\n",
       "  <tbody>\n",
       "  </tbody>\n",
       "</table>\n",
       "</div>"
      ],
      "text/plain": [
       "Empty DataFrame\n",
       "Columns: [brand, net, gen, internalm, externalm, ram, primecam, sndcam, wlan, bluetooth, gps, battery, talktime, price, standby]\n",
       "Index: []"
      ]
     },
     "execution_count": 22,
     "metadata": {},
     "output_type": "execute_result"
    }
   ],
   "source": [
    "mobdat[mobdat.bluetooth.isnull()]"
   ]
  },
  {
   "cell_type": "code",
   "execution_count": 23,
   "metadata": {
    "collapsed": false
   },
   "outputs": [
    {
     "data": {
      "text/html": [
       "<div style=\"max-height:1000px;max-width:1500px;overflow:auto;\">\n",
       "<table border=\"1\" class=\"dataframe\">\n",
       "  <thead>\n",
       "    <tr style=\"text-align: right;\">\n",
       "      <th></th>\n",
       "      <th>brand</th>\n",
       "      <th>net</th>\n",
       "      <th>gen</th>\n",
       "      <th>internalm</th>\n",
       "      <th>externalm</th>\n",
       "      <th>ram</th>\n",
       "      <th>primecam</th>\n",
       "      <th>sndcam</th>\n",
       "      <th>wlan</th>\n",
       "      <th>bluetooth</th>\n",
       "      <th>gps</th>\n",
       "      <th>battery</th>\n",
       "      <th>talktime</th>\n",
       "      <th>price</th>\n",
       "      <th>standby</th>\n",
       "    </tr>\n",
       "  </thead>\n",
       "  <tbody>\n",
       "  </tbody>\n",
       "</table>\n",
       "</div>"
      ],
      "text/plain": [
       "Empty DataFrame\n",
       "Columns: [brand, net, gen, internalm, externalm, ram, primecam, sndcam, wlan, bluetooth, gps, battery, talktime, price, standby]\n",
       "Index: []"
      ]
     },
     "execution_count": 23,
     "metadata": {},
     "output_type": "execute_result"
    }
   ],
   "source": [
    "mobdat[mobdat.gps.isnull()]"
   ]
  },
  {
   "cell_type": "code",
   "execution_count": 24,
   "metadata": {
    "collapsed": false
   },
   "outputs": [
    {
     "data": {
      "text/html": [
       "<div style=\"max-height:1000px;max-width:1500px;overflow:auto;\">\n",
       "<table border=\"1\" class=\"dataframe\">\n",
       "  <thead>\n",
       "    <tr style=\"text-align: right;\">\n",
       "      <th></th>\n",
       "      <th>brand</th>\n",
       "      <th>net</th>\n",
       "      <th>gen</th>\n",
       "      <th>internalm</th>\n",
       "      <th>externalm</th>\n",
       "      <th>ram</th>\n",
       "      <th>primecam</th>\n",
       "      <th>sndcam</th>\n",
       "      <th>wlan</th>\n",
       "      <th>bluetooth</th>\n",
       "      <th>gps</th>\n",
       "      <th>battery</th>\n",
       "      <th>talktime</th>\n",
       "      <th>price</th>\n",
       "      <th>standby</th>\n",
       "    </tr>\n",
       "  </thead>\n",
       "  <tbody>\n",
       "  </tbody>\n",
       "</table>\n",
       "</div>"
      ],
      "text/plain": [
       "Empty DataFrame\n",
       "Columns: [brand, net, gen, internalm, externalm, ram, primecam, sndcam, wlan, bluetooth, gps, battery, talktime, price, standby]\n",
       "Index: []"
      ]
     },
     "execution_count": 24,
     "metadata": {},
     "output_type": "execute_result"
    }
   ],
   "source": [
    "mobdat[mobdat.battery.isnull()]"
   ]
  },
  {
   "cell_type": "code",
   "execution_count": 25,
   "metadata": {
    "collapsed": false
   },
   "outputs": [
    {
     "data": {
      "text/html": [
       "<div style=\"max-height:1000px;max-width:1500px;overflow:auto;\">\n",
       "<table border=\"1\" class=\"dataframe\">\n",
       "  <thead>\n",
       "    <tr style=\"text-align: right;\">\n",
       "      <th></th>\n",
       "      <th>brand</th>\n",
       "      <th>net</th>\n",
       "      <th>gen</th>\n",
       "      <th>internalm</th>\n",
       "      <th>externalm</th>\n",
       "      <th>ram</th>\n",
       "      <th>primecam</th>\n",
       "      <th>sndcam</th>\n",
       "      <th>wlan</th>\n",
       "      <th>bluetooth</th>\n",
       "      <th>gps</th>\n",
       "      <th>battery</th>\n",
       "      <th>talktime</th>\n",
       "      <th>price</th>\n",
       "      <th>standby</th>\n",
       "    </tr>\n",
       "  </thead>\n",
       "  <tbody>\n",
       "  </tbody>\n",
       "</table>\n",
       "</div>"
      ],
      "text/plain": [
       "Empty DataFrame\n",
       "Columns: [brand, net, gen, internalm, externalm, ram, primecam, sndcam, wlan, bluetooth, gps, battery, talktime, price, standby]\n",
       "Index: []"
      ]
     },
     "execution_count": 25,
     "metadata": {},
     "output_type": "execute_result"
    }
   ],
   "source": [
    "mobdat[mobdat.talktime.isnull()]"
   ]
  },
  {
   "cell_type": "code",
   "execution_count": 26,
   "metadata": {
    "collapsed": false
   },
   "outputs": [
    {
     "data": {
      "text/html": [
       "<div style=\"max-height:1000px;max-width:1500px;overflow:auto;\">\n",
       "<table border=\"1\" class=\"dataframe\">\n",
       "  <thead>\n",
       "    <tr style=\"text-align: right;\">\n",
       "      <th></th>\n",
       "      <th>brand</th>\n",
       "      <th>net</th>\n",
       "      <th>gen</th>\n",
       "      <th>internalm</th>\n",
       "      <th>externalm</th>\n",
       "      <th>ram</th>\n",
       "      <th>primecam</th>\n",
       "      <th>sndcam</th>\n",
       "      <th>wlan</th>\n",
       "      <th>bluetooth</th>\n",
       "      <th>gps</th>\n",
       "      <th>battery</th>\n",
       "      <th>talktime</th>\n",
       "      <th>price</th>\n",
       "      <th>standby</th>\n",
       "    </tr>\n",
       "  </thead>\n",
       "  <tbody>\n",
       "  </tbody>\n",
       "</table>\n",
       "</div>"
      ],
      "text/plain": [
       "Empty DataFrame\n",
       "Columns: [brand, net, gen, internalm, externalm, ram, primecam, sndcam, wlan, bluetooth, gps, battery, talktime, price, standby]\n",
       "Index: []"
      ]
     },
     "execution_count": 26,
     "metadata": {},
     "output_type": "execute_result"
    }
   ],
   "source": [
    "mobdat[mobdat.price.isnull()]"
   ]
  },
  {
   "cell_type": "code",
   "execution_count": 27,
   "metadata": {
    "collapsed": false
   },
   "outputs": [
    {
     "data": {
      "text/html": [
       "<div style=\"max-height:1000px;max-width:1500px;overflow:auto;\">\n",
       "<table border=\"1\" class=\"dataframe\">\n",
       "  <thead>\n",
       "    <tr style=\"text-align: right;\">\n",
       "      <th></th>\n",
       "      <th>brand</th>\n",
       "      <th>net</th>\n",
       "      <th>gen</th>\n",
       "      <th>internalm</th>\n",
       "      <th>externalm</th>\n",
       "      <th>ram</th>\n",
       "      <th>primecam</th>\n",
       "      <th>sndcam</th>\n",
       "      <th>wlan</th>\n",
       "      <th>bluetooth</th>\n",
       "      <th>gps</th>\n",
       "      <th>battery</th>\n",
       "      <th>talktime</th>\n",
       "      <th>price</th>\n",
       "      <th>standby</th>\n",
       "    </tr>\n",
       "  </thead>\n",
       "  <tbody>\n",
       "  </tbody>\n",
       "</table>\n",
       "</div>"
      ],
      "text/plain": [
       "Empty DataFrame\n",
       "Columns: [brand, net, gen, internalm, externalm, ram, primecam, sndcam, wlan, bluetooth, gps, battery, talktime, price, standby]\n",
       "Index: []"
      ]
     },
     "execution_count": 27,
     "metadata": {},
     "output_type": "execute_result"
    }
   ],
   "source": [
    "mobdat[mobdat.standby.isnull()]"
   ]
  },
  {
   "cell_type": "code",
   "execution_count": 28,
   "metadata": {
    "collapsed": false
   },
   "outputs": [
    {
     "data": {
      "text/plain": [
       "<matplotlib.axes._subplots.AxesSubplot at 0x9a25978>"
      ]
     },
     "execution_count": 28,
     "metadata": {},
     "output_type": "execute_result"
    },
    {
     "data": {
      "image/png": "[encoded data removed]",
      "text/plain": [
       "<matplotlib.figure.Figure at 0xbd6ba58>"
      ]
     },
     "metadata": {},
     "output_type": "display_data"
    }
   ],
   "source": [
    "mobdat.brand.value_counts().plot(kind=\"bar\")"
   ]
  },
  {
   "cell_type": "code",
   "execution_count": 29,
   "metadata": {
    "collapsed": false
   },
   "outputs": [
    {
     "data": {
      "text/plain": [
       "<matplotlib.axes._subplots.AxesSubplot at 0xbea3780>"
      ]
     },
     "execution_count": 29,
     "metadata": {},
     "output_type": "execute_result"
    },
    {
     "data": {
      "image/png": "[encoded data removed]",
      "text/plain": [
       "<matplotlib.figure.Figure at 0xbae2278>"
      ]
     },
     "metadata": {},
     "output_type": "display_data"
    }
   ],
   "source": [
    "mobdat.net.value_counts().plot(kind=\"bar\")"
   ]
  },
  {
   "cell_type": "code",
   "execution_count": 30,
   "metadata": {
    "collapsed": false
   },
   "outputs": [
    {
     "data": {
      "text/plain": [
       "<matplotlib.axes._subplots.AxesSubplot at 0xbffc9b0>"
      ]
     },
     "execution_count": 30,
     "metadata": {},
     "output_type": "execute_result"
    },
    {
     "data": {
      "image/png": "[encoded data removed]",
      "text/plain": [
       "<matplotlib.figure.Figure at 0xbcaa208>"
      ]
     },
     "metadata": {},
     "output_type": "display_data"
    }
   ],
   "source": [
    "mobdat.gen.value_counts().plot(kind=\"bar\")"
   ]
  },
  {
   "cell_type": "code",
   "execution_count": 31,
   "metadata": {
    "collapsed": false
   },
   "outputs": [
    {
     "data": {
      "text/plain": [
       "<matplotlib.axes._subplots.AxesSubplot at 0xc0b2278>"
      ]
     },
     "execution_count": 31,
     "metadata": {},
     "output_type": "execute_result"
    },
    {
     "data": {
      "image/png": "[encoded data removed]",
      "text/plain": [
       "<matplotlib.figure.Figure at 0xbcaa048>"
      ]
     },
     "metadata": {},
     "output_type": "display_data"
    }
   ],
   "source": [
    "mobdat.internalm.value_counts().plot(kind=\"bar\")"
   ]
  },
  {
   "cell_type": "code",
   "execution_count": 32,
   "metadata": {
    "collapsed": false
   },
   "outputs": [
    {
     "data": {
      "text/plain": [
       "<matplotlib.axes._subplots.AxesSubplot at 0xc13c0b8>"
      ]
     },
     "execution_count": 32,
     "metadata": {},
     "output_type": "execute_result"
    },
    {
     "data": {
      "image/png": "[encoded data removed]",
      "text/plain": [
       "<matplotlib.figure.Figure at 0xbcaaac8>"
      ]
     },
     "metadata": {},
     "output_type": "display_data"
    }
   ],
   "source": [
    "mobdat.externalm.value_counts().plot(kind=\"bar\")"
   ]
  },
  {
   "cell_type": "code",
   "execution_count": 33,
   "metadata": {
    "collapsed": false
   },
   "outputs": [
    {
     "data": {
      "text/plain": [
       "<matplotlib.axes._subplots.AxesSubplot at 0xc3e6208>"
      ]
     },
     "execution_count": 33,
     "metadata": {},
     "output_type": "execute_result"
    },
    {
     "data": {
      "image/png": "[encoded data removed]",
      "text/plain": [
       "<matplotlib.figure.Figure at 0xc428e48>"
      ]
     },
     "metadata": {},
     "output_type": "display_data"
    }
   ],
   "source": [
    "mobdat.ram.value_counts().plot(kind=\"bar\")"
   ]
  },
  {
   "cell_type": "code",
   "execution_count": 34,
   "metadata": {
    "collapsed": false
   },
   "outputs": [
    {
     "data": {
      "text/plain": [
       "<matplotlib.axes._subplots.AxesSubplot at 0xc5767b8>"
      ]
     },
     "execution_count": 34,
     "metadata": {},
     "output_type": "execute_result"
    },
    {
     "data": {
      "image/png": "[encoded data removed]",
      "text/plain": [
       "<matplotlib.figure.Figure at 0xbc13b00>"
      ]
     },
     "metadata": {},
     "output_type": "display_data"
    }
   ],
   "source": [
    "mobdat.primecam.value_counts().plot(kind=\"bar\")"
   ]
  },
  {
   "cell_type": "code",
   "execution_count": 35,
   "metadata": {
    "collapsed": false
   },
   "outputs": [
    {
     "data": {
      "text/plain": [
       "<matplotlib.axes._subplots.AxesSubplot at 0xd4a8d30>"
      ]
     },
     "execution_count": 35,
     "metadata": {},
     "output_type": "execute_result"
    },
    {
     "data": {
      "image/png": "[encoded data removed]",
      "text/plain": [
       "<matplotlib.figure.Figure at 0xc155278>"
      ]
     },
     "metadata": {},
     "output_type": "display_data"
    }
   ],
   "source": [
    "mobdat.sndcam.value_counts().plot(kind=\"bar\")"
   ]
  },
  {
   "cell_type": "code",
   "execution_count": 36,
   "metadata": {
    "collapsed": false
   },
   "outputs": [
    {
     "data": {
      "text/plain": [
       "<matplotlib.axes._subplots.AxesSubplot at 0xd61fa58>"
      ]
     },
     "execution_count": 36,
     "metadata": {},
     "output_type": "execute_result"
    },
    {
     "data": {
      "image/png": "[encoded data removed]",
      "text/plain": [
       "<matplotlib.figure.Figure at 0xc665048>"
      ]
     },
     "metadata": {},
     "output_type": "display_data"
    }
   ],
   "source": [
    "mobdat.wlan.value_counts().plot(kind=\"bar\")"
   ]
  },
  {
   "cell_type": "code",
   "execution_count": 37,
   "metadata": {
    "collapsed": false
   },
   "outputs": [
    {
     "data": {
      "text/plain": [
       "<matplotlib.axes._subplots.AxesSubplot at 0xd7e8048>"
      ]
     },
     "execution_count": 37,
     "metadata": {},
     "output_type": "execute_result"
    },
    {
     "data": {
      "image/png": "[encoded data removed]",
      "text/plain": [
       "<matplotlib.figure.Figure at 0xd5d0c50>"
      ]
     },
     "metadata": {},
     "output_type": "display_data"
    }
   ],
   "source": [
    "mobdat.bluetooth.value_counts().plot(kind=\"bar\")"
   ]
  },
  {
   "cell_type": "code",
   "execution_count": 38,
   "metadata": {
    "collapsed": false
   },
   "outputs": [
    {
     "data": {
      "text/plain": [
       "<matplotlib.axes._subplots.AxesSubplot at 0xd9ca828>"
      ]
     },
     "execution_count": 38,
     "metadata": {},
     "output_type": "execute_result"
    },
    {
     "data": {
      "image/png": "[encoded data removed]",
      "text/plain": [
       "<matplotlib.figure.Figure at 0xd8bf390>"
      ]
     },
     "metadata": {},
     "output_type": "display_data"
    }
   ],
   "source": [
    "mobdat.battery.value_counts().plot(kind=\"bar\")"
   ]
  },
  {
   "cell_type": "code",
   "execution_count": null,
   "metadata": {
    "collapsed": false
   },
   "outputs": [],
   "source": []
  },
  {
   "cell_type": "code",
   "execution_count": null,
   "metadata": {
    "collapsed": true
   },
   "outputs": [],
   "source": []
  }
 ],
 "metadata": {
  "kernelspec": {
   "display_name": "Python 2",
   "language": "python",
   "name": "python2"
  },
  "language_info": {
   "codemirror_mode": {
    "name": "ipython",
    "version": 2
   },
   "file_extension": ".py",
   "mimetype": "text/x-python",
   "name": "python",
   "nbconvert_exporter": "python",
   "pygments_lexer": "ipython2",
   "version": "2.7.8"
  }
 },
 "nbformat": 4,
 "nbformat_minor": 0
}
